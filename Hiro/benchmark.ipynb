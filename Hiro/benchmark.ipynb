{
 "cells": [
  {
   "cell_type": "code",
   "execution_count": 1,
   "metadata": {},
   "outputs": [
    {
     "name": "stdout",
     "output_type": "stream",
     "text": [
      "test\n"
     ]
    },
    {
     "data": {
      "image/png": "[encoded data removed]",
      "text/plain": [
       "<Figure size 640x480 with 1 Axes>"
      ]
     },
     "metadata": {},
     "output_type": "display_data"
    }
   ],
   "source": [
    "import numpy as np\n",
    "import matplotlib.pyplot as plt\n",
    "\n",
    "\n",
    "class Benchmark():\n",
    "    def __init__(self,Nsc=1):\n",
    "        self.Nsc = Nsc\n",
    "        self.th_sc = np.array([0.1,0.1])\n",
    "        \n",
    "    def scdynamics(self,t,X,U,m1,w):\n",
    "        rh = X[0]\n",
    "        v = X[1]\n",
    "        om = X[3]\n",
    "        u1 = U[0]\n",
    "        u2 = U[1]\n",
    "        th1 = self.th_sc[0]\n",
    "        th2 = self.th_sc[1]\n",
    "        drhodv = v\n",
    "        dvdt = rh*om**2-th1/rh**2+th2*u1+w\n",
    "        dphdt = om\n",
    "        domdt = -2*v*om/rh+th2*u2/rh+th2*m1/rh\n",
    "        dXdt = np.array([drhodv,dvdt,dphdt,domdt])\n",
    "        return dXdt\n",
    "        \n",
    "    def scdynamicsFDI(self,t,X,U,m1,w):\n",
    "        x11 = X[0]\n",
    "        x12 = X[1]\n",
    "        x2 = X[2]\n",
    "        x3 = X[3]\n",
    "        u1 = U[0]\n",
    "        u2 = U[1]\n",
    "        th1 = self.th_sc[0]\n",
    "        th2 = self.th_sc[1]\n",
    "        dx11dt = x12/x2**2\n",
    "        dx12dt = th2*x2*u2+th2*x2*m1\n",
    "        dx2dt = x3\n",
    "        dx3dt = x12**2/x2**3-th1/x2**2+th2*u1+w\n",
    "        dXdt = np.array([dx11dt,dx12dt,dx2dt,dx3dt])\n",
    "        return dXdt\n",
    "    \n",
    "    def scmeasurement(self,t,X):\n",
    "        Y = np.array([X[0],X[2],X[3]])\n",
    "        return Y\n",
    "    \n",
    "    def scmeasurementFDI(self,t,X):\n",
    "        Y = np.array([X[0],X[1],X[2]])\n",
    "        return Y\n",
    "    \n",
    "    def rk4(self,t,X,U):\n",
    "        h = self.h\n",
    "        k1 = self.dynamics(t,X,U)\n",
    "        k2 = self.dynamics(t+h/2.,X+k1*h/2.,U)\n",
    "        k3 = self.dynamics(t+h/2.,X+k2*h/2.,U)\n",
    "        k4 = self.dynamics(t+h,X+k3*h,U)\n",
    "        return t+h,X+h*(k1+2.*k2+2.*k3+k4)/6.\n",
    "    \n",
    "if __name__ == \"__main__\":\n",
    "    Nsc = 1"
   ]
  }
 ],
 "metadata": {
  "kernelspec": {
   "display_name": "Python 3",
   "language": "python",
   "name": "python3"
  },
  "language_info": {
   "codemirror_mode": {
    "name": "ipython",
    "version": 3
   },
   "file_extension": ".py",
   "mimetype": "text/x-python",
   "name": "python",
   "nbconvert_exporter": "python",
   "pygments_lexer": "ipython3",
   "version": "3.10.13"
  }
 },
 "nbformat": 4,
 "nbformat_minor": 2
}
